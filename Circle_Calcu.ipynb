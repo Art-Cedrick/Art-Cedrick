{
 "cells": [
  {
   "cell_type": "code",
   "execution_count": 9,
   "metadata": {},
   "outputs": [],
   "source": [
    "from math import pi\n",
    "\n",
    "class Circle:\n",
    "    def __init__(self, a, b, r):\n",
    "        self.a = a\n",
    "        self.b = b\n",
    "        self.r = r\n",
    "\n",
    "    def Area(self):\n",
    "        return pi * self.r**2\n",
    "\n",
    "    def Perimeter(self):\n",
    "        return 2*pi*self.r\n",
    "\n",
    "    def display(self):\n",
    "        print(\"The Area of the Circle is: \", self.Area())\n",
    "        print(\"The Perimeter of the Circle is: \", self.Perimeter())\n",
    "\n",
    "    def formEquation(self, x, y):\n",
    "        return (x - self.a)**2 + (y - self.b)**2 - self.r**2\n",
    "\n",
    "    def testBelong(self, x, y):\n",
    "        if (self.formEquation(x, y) == 0):\n",
    "            print(\"The points (\", x, y, \") belongs to the Circle\")\n",
    "        else:\n",
    "            print(\"The points (\", x, y, \") does not belong to the Circle\")"
   ]
  },
  {
   "cell_type": "code",
   "execution_count": 10,
   "metadata": {},
   "outputs": [
    {
     "name": "stdout",
     "output_type": "stream",
     "text": [
      "The Area of the Circle is:  3.141592653589793\n",
      "The Perimeter of the Circle is:  6.283185307179586\n",
      "--------------------------------------------\n",
      "The points ( 1 1 ) belongs to the Circle\n"
     ]
    }
   ],
   "source": [
    "circleOne = Circle(1, 2, 1)\n",
    "circleOne.display()\n",
    "print(\"--------------------------------------------\")\n",
    "circleOne.testBelong(1, 1)  "
   ]
  }
 ],
 "metadata": {
  "kernelspec": {
   "display_name": "Python 3.10.7 64-bit",
   "language": "python",
   "name": "python3"
  },
  "language_info": {
   "codemirror_mode": {
    "name": "ipython",
    "version": 3
   },
   "file_extension": ".py",
   "mimetype": "text/x-python",
   "name": "python",
   "nbconvert_exporter": "python",
   "pygments_lexer": "ipython3",
   "version": "3.10.7"
  },
  "orig_nbformat": 4,
  "vscode": {
   "interpreter": {
    "hash": "0d72b21489300652f2337cd7f80c57cc00ce6bbc92cf98d285c178d0a8ced433"
   }
  }
 },
 "nbformat": 4,
 "nbformat_minor": 2
}
