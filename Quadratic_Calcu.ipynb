{
 "cells": [
  {
   "cell_type": "code",
   "execution_count": 12,
   "metadata": {},
   "outputs": [
    {
     "name": "stdout",
     "output_type": "stream",
     "text": [
      "1\n",
      "10\n",
      "25\n",
      "The values are: (-5+0j), (-5+0j)\n"
     ]
    }
   ],
   "source": [
    "import cmath\n",
    "\n",
    "a = int(input(\"Enter value a:\"))\n",
    "print(a)\n",
    "b = int(input(\"Enter value b:\"))\n",
    "print(b)\n",
    "c = int(input(\"Enter value c:\"))\n",
    "print(c)\n",
    "\n",
    "d = int((b**2)-(4*a*c))\n",
    "\n",
    "val1 = (-b-cmath.sqrt(d))/(2*a)\n",
    "val2 = (-b+cmath.sqrt(d))/(2*a)\n",
    "print(\"The values are: {0}, {1}\" .format(val1, val2))"
   ]
  }
 ],
 "metadata": {
  "kernelspec": {
   "display_name": "Python 3.10.7 64-bit",
   "language": "python",
   "name": "python3"
  },
  "language_info": {
   "codemirror_mode": {
    "name": "ipython",
    "version": 3
   },
   "file_extension": ".py",
   "mimetype": "text/x-python",
   "name": "python",
   "nbconvert_exporter": "python",
   "pygments_lexer": "ipython3",
   "version": "3.10.7"
  },
  "orig_nbformat": 4,
  "vscode": {
   "interpreter": {
    "hash": "0d72b21489300652f2337cd7f80c57cc00ce6bbc92cf98d285c178d0a8ced433"
   }
  }
 },
 "nbformat": 4,
 "nbformat_minor": 2
}
