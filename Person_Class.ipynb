{
 "cells": [
  {
   "cell_type": "code",
   "execution_count": 2,
   "metadata": {},
   "outputs": [],
   "source": [
    "class Person:\n",
    "    def __init__(self, name, age):\n",
    "        self.name = name\n",
    "        self.age = age\n",
    "    \n",
    "    def display(self):\n",
    "        print(\"Name: \", self.name)\n",
    "        print(\"Age: \", self.age)"
   ]
  },
  {
   "cell_type": "code",
   "execution_count": 3,
   "metadata": {},
   "outputs": [],
   "source": [
    "class Student(Person):\n",
    "    def __init__(self, name, age, section):\n",
    "        super().__init__(name, age)\n",
    "        self.section = section\n",
    "    \n",
    "    def displayStudent(self):\n",
    "        print(\"Student Name: \", self.name)\n",
    "        print(\"Student Age: \", self.age)\n",
    "        print(\"Student Section: \", self.section)"
   ]
  },
  {
   "cell_type": "code",
   "execution_count": 4,
   "metadata": {},
   "outputs": [
    {
     "name": "stdout",
     "output_type": "stream",
     "text": [
      "Name:  Art\n",
      "Age:  19\n",
      "---------------------------------------\n",
      "Student Name:  Joaqui\n",
      "Student Age:  19\n",
      "Student Section:  PetE 2102\n"
     ]
    }
   ],
   "source": [
    "personOne = Person(\"Art\", 19)\n",
    "personOne.display()\n",
    "print(\"---------------------------------------\")\n",
    "studentOne = Student(\"Joaqui\", 19, \"PetE 2102\")\n",
    "studentOne.displayStudent()"
   ]
  }
 ],
 "metadata": {
  "kernelspec": {
   "display_name": "Python 3.10.7 64-bit",
   "language": "python",
   "name": "python3"
  },
  "language_info": {
   "codemirror_mode": {
    "name": "ipython",
    "version": 3
   },
   "file_extension": ".py",
   "mimetype": "text/x-python",
   "name": "python",
   "nbconvert_exporter": "python",
   "pygments_lexer": "ipython3",
   "version": "3.10.7"
  },
  "orig_nbformat": 4,
  "vscode": {
   "interpreter": {
    "hash": "0d72b21489300652f2337cd7f80c57cc00ce6bbc92cf98d285c178d0a8ced433"
   }
  }
 },
 "nbformat": 4,
 "nbformat_minor": 2
}
