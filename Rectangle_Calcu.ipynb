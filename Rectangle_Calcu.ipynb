{
 "cells": [
  {
   "cell_type": "code",
   "execution_count": 10,
   "metadata": {},
   "outputs": [],
   "source": [
    "class Rectangle:\n",
    "    def __init__(self, length, width):\n",
    "        self.length = length\n",
    "        self.width = width\n",
    "\n",
    "    def Perimeter(self):\n",
    "        return 2*(self.length + self.width)\n",
    "    \n",
    "    def Area(self):\n",
    "        return self.length + self.width\n",
    "\n",
    "    def display(self):\n",
    "        print(\"The length of the rectangle is: \", self.length)\n",
    "        print(\"The width of the rectangle is: \", self.width)\n",
    "        print(\"The perimeter of the rectangle is: \", self.Perimeter())\n",
    "        print(\"The area of the rectangle is: \", self.Area())"
   ]
  },
  {
   "cell_type": "code",
   "execution_count": 11,
   "metadata": {},
   "outputs": [],
   "source": [
    "class Parallelipiped(Rectangle):\n",
    "    def __init__(self, length, width, height):\n",
    "        super().__init__(length, width)\n",
    "        self.height = height\n",
    "\n",
    "    def Volume(self):\n",
    "        return self.length*self.width*self.height"
   ]
  },
  {
   "cell_type": "code",
   "execution_count": 12,
   "metadata": {},
   "outputs": [
    {
     "name": "stdout",
     "output_type": "stream",
     "text": [
      "The length of the rectangle is:  7\n",
      "The width of the rectangle is:  5\n",
      "The perimeter of the rectangle is:  24\n",
      "The area of the rectangle is:  12\n",
      "--------------------------------------\n",
      "The volume of Parallelipiped is:  70\n"
     ]
    }
   ],
   "source": [
    "RecOne = Rectangle(7, 5)\n",
    "RecOne.display()\n",
    "print(\"--------------------------------------\")\n",
    "ParallelipipedOne = Parallelipiped(7, 5, 2)\n",
    "print(\"The volume of Parallelipiped is: \", ParallelipipedOne.Volume())"
   ]
  }
 ],
 "metadata": {
  "kernelspec": {
   "display_name": "Python 3.10.7 64-bit",
   "language": "python",
   "name": "python3"
  },
  "language_info": {
   "codemirror_mode": {
    "name": "ipython",
    "version": 3
   },
   "file_extension": ".py",
   "mimetype": "text/x-python",
   "name": "python",
   "nbconvert_exporter": "python",
   "pygments_lexer": "ipython3",
   "version": "3.10.7"
  },
  "orig_nbformat": 4,
  "vscode": {
   "interpreter": {
    "hash": "0d72b21489300652f2337cd7f80c57cc00ce6bbc92cf98d285c178d0a8ced433"
   }
  }
 },
 "nbformat": 4,
 "nbformat_minor": 2
}
