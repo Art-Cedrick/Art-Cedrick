{
 "cells": [
  {
   "cell_type": "code",
   "execution_count": 18,
   "metadata": {},
   "outputs": [
    {
     "name": "stdout",
     "output_type": "stream",
     "text": [
      "Enter a character:\n",
      "7\n",
      "7 is not a vowel\n"
     ]
    }
   ],
   "source": [
    "lttr = input(print(\"Enter a character:\"))\n",
    "print(lttr)\n",
    "\n",
    "if lttr == 'a' or lttr == 'e' or lttr == 'i' or lttr == 'o' or lttr == 'u':\n",
    "    print(lttr + \" is a vowel.\")\n",
    "elif lttr.isnumeric():\n",
    "    print(lttr +  \" is not a vowel.\")\n",
    "else:\n",
    "    print(\"Invalid input!\")"
   ]
  }
 ],
 "metadata": {
  "kernelspec": {
   "display_name": "Python 3.10.6 64-bit",
   "language": "python",
   "name": "python3"
  },
  "language_info": {
   "codemirror_mode": {
    "name": "ipython",
    "version": 3
   },
   "file_extension": ".py",
   "mimetype": "text/x-python",
   "name": "python",
   "nbconvert_exporter": "python",
   "pygments_lexer": "ipython3",
   "version": "3.10.6"
  },
  "orig_nbformat": 4,
  "vscode": {
   "interpreter": {
    "hash": "6d837133c9b3e8920783bfcda7d095992161edeb1047ed0561080c5702a5c515"
   }
  }
 },
 "nbformat": 4,
 "nbformat_minor": 2
}
