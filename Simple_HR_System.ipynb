{
 "cells": [
  {
   "cell_type": "code",
   "execution_count": 56,
   "metadata": {},
   "outputs": [],
   "source": [
    "class Employee:\n",
    "    def __init__(self, name, id):\n",
    "        self.name = name\n",
    "        self.id = id"
   ]
  },
  {
   "cell_type": "code",
   "execution_count": 57,
   "metadata": {},
   "outputs": [],
   "source": [
    "class PayrollSystem:\n",
    "    def calculatePayroll(self, employees):\n",
    "        print(\"Calculating Salary\")\n",
    "        print(\"===================\")\n",
    "        for emp in employees:\n",
    "            print(\"Payroll for: {} - {}\".format(emp.id, emp.name))\n",
    "            print(\"Check Amount: {}\".format(emp.calculate_payroll()))\n",
    "            print(\"\")"
   ]
  },
  {
   "cell_type": "code",
   "execution_count": 58,
   "metadata": {},
   "outputs": [],
   "source": [
    "class SalaryEmployee(Employee):\n",
    "    def __init__(self, name, id, weekly_salary):\n",
    "        super().__init__(name, id)\n",
    "        self.weekly_salary = weekly_salary\n",
    "\n",
    "    def calculate_payroll(self):\n",
    "        return self.weekly_salary"
   ]
  },
  {
   "cell_type": "code",
   "execution_count": 59,
   "metadata": {},
   "outputs": [],
   "source": [
    "class HourlyEmployee(Employee):\n",
    "    def __init__(self, name, id, hours_worked, hour_rate):\n",
    "        super().__init__(name, id)\n",
    "        self.hours_worked = hours_worked\n",
    "        self.hour_rate = hour_rate\n",
    "\n",
    "    def calculate_payroll(self):\n",
    "        return self.hours_worked*self.hour_rate"
   ]
  },
  {
   "cell_type": "code",
   "execution_count": 60,
   "metadata": {},
   "outputs": [],
   "source": [
    "class CommisionEmployee(SalaryEmployee):\n",
    "    def __init__(self, name, id, weekly_salary, commision):\n",
    "        super().__init__(name, id, weekly_salary)\n",
    "        self.commision = commision\n",
    "\n",
    "    def calculate_payroll(self):\n",
    "        fixed = super().calculate_payroll()\n",
    "        return fixed + self.commision"
   ]
  },
  {
   "cell_type": "code",
   "execution_count": 61,
   "metadata": {},
   "outputs": [
    {
     "name": "stdout",
     "output_type": "stream",
     "text": [
      "Calculating Salary\n",
      "===================\n",
      "Payroll for: 1 - Joaqui\n",
      "Check Amount: 2000\n",
      "\n",
      "Payroll for: 2 - Cedrick\n",
      "Check Amount: 1050\n",
      "\n",
      "Payroll for: 3 - Bella\n",
      "Check Amount: 2250\n",
      "\n"
     ]
    }
   ],
   "source": [
    "empOne = SalaryEmployee(\"Joaqui\", 1, 2000)\n",
    "empTwo = HourlyEmployee(\"Cedrick\", 2, 35, 30)\n",
    "empThree = CommisionEmployee(\"Bella\", 3, 2000, 250)\n",
    "\n",
    "payroll = PayrollSystem()\n",
    "payroll.calculatePayroll([\n",
    "    empOne,\n",
    "    empTwo,\n",
    "    empThree\n",
    "])"
   ]
  }
 ],
 "metadata": {
  "kernelspec": {
   "display_name": "Python 3.10.7 64-bit",
   "language": "python",
   "name": "python3"
  },
  "language_info": {
   "codemirror_mode": {
    "name": "ipython",
    "version": 3
   },
   "file_extension": ".py",
   "mimetype": "text/x-python",
   "name": "python",
   "nbconvert_exporter": "python",
   "pygments_lexer": "ipython3",
   "version": "3.10.7"
  },
  "orig_nbformat": 4,
  "vscode": {
   "interpreter": {
    "hash": "0d72b21489300652f2337cd7f80c57cc00ce6bbc92cf98d285c178d0a8ced433"
   }
  }
 },
 "nbformat": 4,
 "nbformat_minor": 2
}
