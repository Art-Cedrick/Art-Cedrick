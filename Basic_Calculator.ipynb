{
 "cells": [
  {
   "cell_type": "code",
   "execution_count": 19,
   "metadata": {},
   "outputs": [
    {
     "name": "stdout",
     "output_type": "stream",
     "text": [
      "\n",
      "1. Addition\n",
      "2. Subtraction\n",
      "3. Multiplication\n",
      "4. Division\n",
      "\n",
      "Enter number:\n",
      "4\n",
      "Enter first number:\n",
      "45\n",
      "Enter second number:\n",
      "2\n",
      "The sum is:\n",
      "22.5\n"
     ]
    }
   ],
   "source": [
    "print(\"\"\"\n",
    "1. Addition\n",
    "2. Subtraction\n",
    "3. Multiplication\n",
    "4. Division\n",
    "\"\"\")\n",
    "\n",
    "print(\"Enter number:\")\n",
    "menu = int(input())\n",
    "print(menu)\n",
    "\n",
    "if menu == 1:\n",
    "    print(\"Enter first number:\")\n",
    "    num1 = int(input())\n",
    "    print(num1)\n",
    "    print(\"Enter second number:\")\n",
    "    num2 = int(input())\n",
    "    print(num2)\n",
    "    print(\"The sum is:\")\n",
    "    print(num1 + num2)\n",
    "elif menu == 2:\n",
    "    print(\"Enter first number:\")\n",
    "    num1 = int(input())\n",
    "    print(num1)\n",
    "    print(\"Enter second number:\")\n",
    "    num2 = int(input())\n",
    "    print(num2)\n",
    "    print(\"The sum is:\")\n",
    "    print(num1 - num2)\n",
    "elif menu == 3:\n",
    "    print(\"Enter first number:\")\n",
    "    num1 = int(input())\n",
    "    print(num1)\n",
    "    print(\"Enter second number:\")\n",
    "    num2 = int(input())\n",
    "    print(num2)\n",
    "    print(\"The sum is:\")\n",
    "    print(num1 * num2)\n",
    "elif menu == 4:\n",
    "    print(\"Enter first number:\")\n",
    "    num1 = int(input())\n",
    "    print(num1)\n",
    "    print(\"Enter second number:\")\n",
    "    num2 = int(input())\n",
    "    print(num2)\n",
    "    print(\"The sum is:\")\n",
    "    print(num1 / num2)"
   ]
  }
 ],
 "metadata": {
  "kernelspec": {
   "display_name": "Python 3.10.6 64-bit",
   "language": "python",
   "name": "python3"
  },
  "language_info": {
   "codemirror_mode": {
    "name": "ipython",
    "version": 3
   },
   "file_extension": ".py",
   "mimetype": "text/x-python",
   "name": "python",
   "nbconvert_exporter": "python",
   "pygments_lexer": "ipython3",
   "version": "3.10.6"
  },
  "orig_nbformat": 4,
  "vscode": {
   "interpreter": {
    "hash": "6d837133c9b3e8920783bfcda7d095992161edeb1047ed0561080c5702a5c515"
   }
  }
 },
 "nbformat": 4,
 "nbformat_minor": 2
}
